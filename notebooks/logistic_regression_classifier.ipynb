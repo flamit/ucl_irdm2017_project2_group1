{
 "cells": [
  {
   "cell_type": "markdown",
   "metadata": {},
   "source": [
    "### Imports and Configuration"
   ]
  },
  {
   "cell_type": "code",
   "execution_count": 1,
   "metadata": {
    "collapsed": false
   },
   "outputs": [],
   "source": [
    "%load_ext autoreload\n",
    "%autoreload 2"
   ]
  },
  {
   "cell_type": "code",
   "execution_count": 46,
   "metadata": {
    "collapsed": false
   },
   "outputs": [],
   "source": [
    "import numpy as np\n",
    "import pandas as pd\n",
    "import scipy.sparse\n",
    "\n",
    "from collections import defaultdict, Counter\n",
    "\n",
    "from functools import partial, reduce\n",
    "\n",
    "import random\n",
    "import math\n",
    "\n",
    "import matplotlib.pyplot as plt\n",
    "import seaborn as sns\n",
    "\n",
    "from sklearn.preprocessing import normalize, StandardScaler\n",
    "from sklearn.linear_model import LogisticRegression\n",
    "standard_scaler = StandardScaler()\n",
    "from skbayes.rvm_ard_models import ClassificationARD\n",
    "\n",
    "import pickle"
   ]
  },
  {
   "cell_type": "code",
   "execution_count": 3,
   "metadata": {
    "collapsed": true
   },
   "outputs": [],
   "source": [
    "import sys \n",
    "import os\n",
    "sys.path.append(os.path.abspath(\"../../ucl_irdm2017_project2_group1\"))"
   ]
  },
  {
   "cell_type": "code",
   "execution_count": 4,
   "metadata": {
    "collapsed": false
   },
   "outputs": [],
   "source": [
    "import ltr.data_load\n",
    "import ltr.evals"
   ]
  },
  {
   "cell_type": "code",
   "execution_count": 5,
   "metadata": {
    "collapsed": true
   },
   "outputs": [],
   "source": [
    "fpath = \"../../\""
   ]
  },
  {
   "cell_type": "markdown",
   "metadata": {},
   "source": [
    "### Data Load"
   ]
  },
  {
   "cell_type": "markdown",
   "metadata": {},
   "source": [
    "**Please note:** Run first cell once to generate CSVs. Once generated, files can be loaded in using second cell without re-running make_rank_data_csv"
   ]
  },
  {
   "cell_type": "code",
   "execution_count": null,
   "metadata": {
    "collapsed": true
   },
   "outputs": [],
   "source": [
    "ltr.data_load.make_rank_data_csv(fpath, 1, 'train')\n",
    "ltr.data_load.make_rank_data_csv(fpath, 1, 'vali')\n",
    "ltr.data_load.make_rank_data_csv(fpath, 1, 'test')"
   ]
  },
  {
   "cell_type": "code",
   "execution_count": 6,
   "metadata": {
    "collapsed": false
   },
   "outputs": [],
   "source": [
    "data_train = pd.read_csv('{fpath}/train_fld1_df.csv'.format(fpath=fpath), index_col=0)\n",
    "data_vali = pd.read_csv('{fpath}/test_fld1_df.csv'.format(fpath=fpath), index_col=0)\n",
    "data_test = pd.read_csv('{fpath}/vali_fld1_df.csv'.format(fpath=fpath), index_col=0)"
   ]
  },
  {
   "cell_type": "markdown",
   "metadata": {},
   "source": [
    "Combining training and validation set:"
   ]
  },
  {
   "cell_type": "code",
   "execution_count": 7,
   "metadata": {
    "collapsed": false
   },
   "outputs": [],
   "source": [
    "full_train = pd.concat([data_train, data_vali])"
   ]
  },
  {
   "cell_type": "code",
   "execution_count": 8,
   "metadata": {
    "collapsed": false
   },
   "outputs": [
    {
     "data": {
      "text/plain": [
       "(964933, 138)"
      ]
     },
     "execution_count": 8,
     "metadata": {},
     "output_type": "execute_result"
    }
   ],
   "source": [
    "full_train.shape"
   ]
  },
  {
   "cell_type": "markdown",
   "metadata": {},
   "source": [
    "### Data Preparation"
   ]
  },
  {
   "cell_type": "markdown",
   "metadata": {},
   "source": [
    "Filtering data to remove queries with less than 70 documents, or greater than 200 documents. We have trained models using both unfiltered and filtered data, however the rest of this notebook uses the unfiltered versions."
   ]
  },
  {
   "cell_type": "code",
   "execution_count": 9,
   "metadata": {
    "collapsed": false
   },
   "outputs": [],
   "source": [
    "qid_counts = dict(Counter(list(full_train['query_id'])))\n",
    "filtered_qid_dict = {k: v for k, v in qid_counts.items() if v <= 200 and v >= 70}\n",
    "filtered_qids = filtered_qid_dict.keys()\n",
    "full_train_filtered = full_train.loc[full_train['query_id'].isin(filtered_qids)]"
   ]
  },
  {
   "cell_type": "code",
   "execution_count": 10,
   "metadata": {
    "collapsed": false
   },
   "outputs": [
    {
     "data": {
      "text/plain": [
       "(675006, 138)"
      ]
     },
     "execution_count": 10,
     "metadata": {},
     "output_type": "execute_result"
    }
   ],
   "source": [
    "full_train_filtered.shape"
   ]
  },
  {
   "cell_type": "markdown",
   "metadata": {},
   "source": [
    "Converting to numpy arrays:"
   ]
  },
  {
   "cell_type": "code",
   "execution_count": 11,
   "metadata": {
    "collapsed": false
   },
   "outputs": [],
   "source": [
    "X_train = full_train.ix[:,2:].as_matrix()\n",
    "y_train = full_train.ix[:,0].as_matrix()\n",
    "qid_train = full_train.ix[:,1].as_matrix()\n",
    "X_test = data_test.ix[:,2:].as_matrix()\n",
    "y_test = data_test.ix[:,0].as_matrix()\n",
    "qid_test = data_test.ix[:,1].as_matrix()"
   ]
  },
  {
   "cell_type": "markdown",
   "metadata": {},
   "source": [
    "Scaling input data to have zero mean, unit variance:"
   ]
  },
  {
   "cell_type": "code",
   "execution_count": 12,
   "metadata": {
    "collapsed": false
   },
   "outputs": [],
   "source": [
    "X_train_scaled = standard_scaler.fit_transform(X_train)\n",
    "X_test_scaled = standard_scaler.transform(X_test)"
   ]
  },
  {
   "cell_type": "markdown",
   "metadata": {},
   "source": [
    "### Model Training"
   ]
  },
  {
   "cell_type": "markdown",
   "metadata": {},
   "source": [
    "##### Function definitions"
   ]
  },
  {
   "cell_type": "code",
   "execution_count": 13,
   "metadata": {
    "collapsed": false
   },
   "outputs": [],
   "source": [
    "def label_encoder(y):\n",
    "    \"\"\"\n",
    "    Description:\n",
    "    Generates a one-hot representation of the relevance labels\n",
    "    e.g. classes: {0,1,2,3,4}. Class 2, ohe representation: [0,0,1,0,0]\n",
    "    \n",
    "    Inputs:\n",
    "    scores - dot product between weight vector and input data matrix\n",
    "    \n",
    "    \"\"\"\n",
    "    k = len(np.unique(y))\n",
    "    def ohe(a):\n",
    "        x = np.zeros(k)\n",
    "        x[a] = 1\n",
    "        return x\n",
    "    t = [ohe(yy) for yy in y]\n",
    "    return np.squeeze(t)"
   ]
  },
  {
   "cell_type": "code",
   "execution_count": 14,
   "metadata": {
    "collapsed": false
   },
   "outputs": [],
   "source": [
    "def softmax_function(scores):\n",
    "    \"\"\"\n",
    "    Description:\n",
    "    Computes probability distribution over relevance label classes\n",
    "    \n",
    "    Inputs:\n",
    "    scores - dot product between weight vector and input data matrix\n",
    "    \n",
    "    \"\"\"\n",
    "    scores = scores - np.max(scores)\n",
    "    numerator = np.exp(scores).T\n",
    "    denominator = np.sum(np.exp(scores),axis=1)\n",
    "    class_probs = (numerator/denominator).T\n",
    "    return class_probs"
   ]
  },
  {
   "cell_type": "code",
   "execution_count": 15,
   "metadata": {
    "collapsed": true
   },
   "outputs": [],
   "source": [
    "def scoring_function(w, X):\n",
    "    \"\"\"\n",
    "    Description:\n",
    "    Uses a softmax scoring function to return probabilities for each of the relevance class labels\n",
    "    for each query-document pair\n",
    "    \n",
    "    Inputs:\n",
    "    w - weight vector\n",
    "    X - input data matrix (datapoints x dimensions)\n",
    "    \n",
    "    \"\"\"\n",
    "    num_examples = X.shape[0]\n",
    "    scores = np.dot(X,w)\n",
    "    class_probs = softmax_function(scores)\n",
    "    return class_probs\n",
    "    "
   ]
  },
  {
   "cell_type": "markdown",
   "metadata": {},
   "source": [
    "$$\n",
    "P(y=k|x) = \\frac{e^{\\mathbf{w}_{k}^{\\top}\\phi(x)}}{\\sum_{d}e^{\\mathbf{w}_{d}^{\\top}\\phi(x)}}\n",
    "$$"
   ]
  },
  {
   "cell_type": "code",
   "execution_count": 16,
   "metadata": {
    "collapsed": false
   },
   "outputs": [],
   "source": [
    "def loss_function(class_probs, reg, w, X, labels):\n",
    "    \"\"\"\n",
    "    Description:\n",
    "    Computes loss and gradient of loss function for given probabilities and true class labels\n",
    "    \n",
    "    Inputs:\n",
    "    class probs - probabilities for each relevancer class label\n",
    "    reg -  regularisation parameter (lambda)\n",
    "    w - weight matrix\n",
    "    X - input data matrix\n",
    "    labels - true relevance labels (y)\n",
    "    \n",
    "    \"\"\"\n",
    "    num_examples = X.shape[0]\n",
    "    labels = label_encoder(labels)\n",
    "    \n",
    "    # Loss\n",
    "    log_loss = np.sum(np.log(class_probs[labels.astype(bool)]))\n",
    "    l2_regularisation = (reg/2)*np.sum(w**2)\n",
    "    loss = (-1 / num_examples) * log_loss + l2_regularisation\n",
    "    \n",
    "    # Gradient\n",
    "    delta_l = (-1 / num_examples) * np.dot(X.T,(labels - class_probs))\n",
    "    delta_reg = reg*w\n",
    "    gradient = delta_l + delta_reg\n",
    "    return loss, gradient\n"
   ]
  },
  {
   "cell_type": "markdown",
   "metadata": {},
   "source": [
    "$$\n",
    "\\mathcal{L}(\\mathbf{W}) = \\frac{1}{n}\\sum_{i=1}^n[ {\\mathbf{w}_{y_i}^{\\top}\\phi(x_i)} - log(\\sum_{d}e^{\\mathbf{w}_{d}^{\\top}\\phi(x_i)})]\n",
    "$$"
   ]
  },
  {
   "cell_type": "markdown",
   "metadata": {},
   "source": [
    "$$\n",
    "\\frac{\\partial\\mathcal{L}}{\\partial\\mathbf{w_k}} = \\frac{1}{n}\\sum_{i=1}^n \\phi(x_i) - P(y_i=k|x_i)\\phi(x_i)\n",
    "$$"
   ]
  },
  {
   "cell_type": "markdown",
   "metadata": {},
   "source": [
    "##### Training"
   ]
  },
  {
   "cell_type": "markdown",
   "metadata": {},
   "source": [
    "Training using softmax scoring function, log loss and gradient descent to optimise weights:"
   ]
  },
  {
   "cell_type": "code",
   "execution_count": 23,
   "metadata": {
    "collapsed": true
   },
   "outputs": [],
   "source": [
    "def optimal_w_function(X,y,reg,max_iter = 1000, learning_rate = 0.1):\n",
    "    w = np.zeros([X.shape[1],len(np.unique(y))])\n",
    "    losses = []\n",
    "    for i in range(0,max_iter):\n",
    "        class_probs = scoring_function(w,X)\n",
    "        loss,grad = loss_function(class_probs, reg, w, X, y)\n",
    "        \n",
    "        losses.append(loss)\n",
    "        if (i>0):\n",
    "            prevmin = np.min(losses[0:-1])\n",
    "            if loss>prevmin:\n",
    "                print('Divergent Transitions, reducing learning rate to ' + str(learning_rate*0.9))\n",
    "                learning_rate = learning_rate*0.9\n",
    "            if (np.abs(losses[-2] - loss) < 3e-4):\n",
    "                print('Converged in ' + str(i+1)+ ' steps. Regularisation parameter (lambda) = ' + str(reg) +'. Loss = ' + str(loss))\n",
    "                return w,loss,losses,class_probs\n",
    "        w = w - (learning_rate * grad)\n",
    "    \n",
    "    print('Not converged. Regularisation parameter (lambda) = ' + str(reg) +'. Loss =  ' + str(loss))\n",
    "    return w,loss,losses,class_probs\n",
    "            "
   ]
  },
  {
   "cell_type": "code",
   "execution_count": 24,
   "metadata": {
    "collapsed": false
   },
   "outputs": [
    {
     "name": "stdout",
     "output_type": "stream",
     "text": [
      "Converged in 10 steps. Regularisation parameter (lambda) = 1. Loss = 1.53249326012\n"
     ]
    }
   ],
   "source": [
    "w_opt, loss, losses, prob_train = optimal_w_function(X_train_scaled,y_train,1)"
   ]
  },
  {
   "cell_type": "code",
   "execution_count": 25,
   "metadata": {
    "collapsed": false
   },
   "outputs": [
    {
     "data": {
      "image/png": "[encoded data removed]",
      "text/plain": [
       "<matplotlib.figure.Figure at 0x1223971d0>"
      ]
     },
     "metadata": {},
     "output_type": "display_data"
    }
   ],
   "source": [
    "plt.plot(losses)\n",
    "plt.show()"
   ]
  },
  {
   "cell_type": "code",
   "execution_count": 27,
   "metadata": {
    "collapsed": false
   },
   "outputs": [
    {
     "data": {
      "image/png": "[encoded data removed]",
      "text/plain": [
       "<matplotlib.figure.Figure at 0x10c4f0c50>"
      ]
     },
     "metadata": {},
     "output_type": "display_data"
    }
   ],
   "source": [
    "plt.hist(np.argmax(prob_train,axis=1))\n",
    "plt.show()"
   ]
  },
  {
   "cell_type": "markdown",
   "metadata": {},
   "source": [
    "### Cross-validation"
   ]
  },
  {
   "cell_type": "markdown",
   "metadata": {},
   "source": [
    "Here we perform 5-fold cross-validation on the combined training and validation set to tune the regularisation parameter, lambda:"
   ]
  },
  {
   "cell_type": "code",
   "execution_count": 50,
   "metadata": {
    "collapsed": false
   },
   "outputs": [
    {
     "name": "stdout",
     "output_type": "stream",
     "text": [
      "Converged in 26 steps. Regularisation parameter (lambda) = 0.0. Loss = 1.48245331641\n",
      "Converged in 26 steps. Regularisation parameter (lambda) = 0.0. Loss = 1.48571153495\n",
      "Converged in 26 steps. Regularisation parameter (lambda) = 0.0. Loss = 1.48082446063\n",
      "Converged in 26 steps. Regularisation parameter (lambda) = 0.0. Loss = 1.48168416304\n",
      "Converged in 26 steps. Regularisation parameter (lambda) = 0.0. Loss = 1.47913524137\n",
      "Lambda: 0.0  Average ERR: 0.275456540081  Average NDCG: 0.324965822374\n",
      "Converged in 14 steps. Regularisation parameter (lambda) = 0.1. Loss = 1.49802241962\n",
      "Converged in 14 steps. Regularisation parameter (lambda) = 0.1. Loss = 1.50108163571\n",
      "Converged in 14 steps. Regularisation parameter (lambda) = 0.1. Loss = 1.4960853332\n",
      "Converged in 14 steps. Regularisation parameter (lambda) = 0.1. Loss = 1.49757815552\n",
      "Converged in 14 steps. Regularisation parameter (lambda) = 0.1. Loss = 1.49492227647\n",
      "Lambda: 0.1  Average ERR: 0.281179231717  Average NDCG: 0.332741171356\n",
      "Converged in 11 steps. Regularisation parameter (lambda) = 0.2. Loss = 1.50581934501\n",
      "Converged in 11 steps. Regularisation parameter (lambda) = 0.2. Loss = 1.50870299245\n",
      "Converged in 11 steps. Regularisation parameter (lambda) = 0.2. Loss = 1.50381935177\n",
      "Converged in 11 steps. Regularisation parameter (lambda) = 0.2. Loss = 1.50548932779\n",
      "Converged in 11 steps. Regularisation parameter (lambda) = 0.2. Loss = 1.50288721174\n",
      "Lambda: 0.2  Average ERR: 0.282736697098  Average NDCG: 0.333305119426\n",
      "Converged in 9 steps. Regularisation parameter (lambda) = 0.3. Loss = 1.51145447801\n",
      "Converged in 9 steps. Regularisation parameter (lambda) = 0.3. Loss = 1.51424066129\n",
      "Converged in 9 steps. Regularisation parameter (lambda) = 0.3. Loss = 1.50948552244\n",
      "Converged in 9 steps. Regularisation parameter (lambda) = 0.3. Loss = 1.51121961007\n",
      "Converged in 9 steps. Regularisation parameter (lambda) = 0.3. Loss = 1.50866832279\n",
      "Lambda: 0.3  Average ERR: 0.283259874922  Average NDCG: 0.33284763209\n",
      "Converged in 8 steps. Regularisation parameter (lambda) = 0.4. Loss = 1.51587741103\n",
      "Converged in 8 steps. Regularisation parameter (lambda) = 0.4. Loss = 1.51863492336\n",
      "Converged in 8 steps. Regularisation parameter (lambda) = 0.4. Loss = 1.51398009885\n",
      "Converged in 8 steps. Regularisation parameter (lambda) = 0.4. Loss = 1.51570638288\n",
      "Converged in 8 steps. Regularisation parameter (lambda) = 0.4. Loss = 1.5132067074\n",
      "Lambda: 0.4  Average ERR: 0.283734679946  Average NDCG: 0.332658285117\n",
      "Converged in 8 steps. Regularisation parameter (lambda) = 0.5. Loss = 1.51953906487\n",
      "Converged in 8 steps. Regularisation parameter (lambda) = 0.5. Loss = 1.52231598777\n",
      "Converged in 8 steps. Regularisation parameter (lambda) = 0.5. Loss = 1.51773993217\n",
      "Converged in 8 steps. Regularisation parameter (lambda) = 0.5. Loss = 1.51941005553\n",
      "Converged in 8 steps. Regularisation parameter (lambda) = 0.5. Loss = 1.51696202721\n",
      "Lambda: 0.5  Average ERR: 0.28407913966  Average NDCG: 0.33235962438\n",
      "Converged in 8 steps. Regularisation parameter (lambda) = 0.6. Loss = 1.52284464335\n",
      "Converged in 8 steps. Regularisation parameter (lambda) = 0.6. Loss = 1.52574950651\n",
      "Converged in 8 steps. Regularisation parameter (lambda) = 0.6. Loss = 1.52119272305\n",
      "Converged in 8 steps. Regularisation parameter (lambda) = 0.6. Loss = 1.52275411855\n",
      "Converged in 8 steps. Regularisation parameter (lambda) = 0.6. Loss = 1.52033973094\n",
      "Lambda: 0.6  Average ERR: 0.284021491722  Average NDCG: 0.332096466832\n",
      "Converged in 9 steps. Regularisation parameter (lambda) = 0.7. Loss = 1.52573518646\n",
      "Converged in 10 steps. Regularisation parameter (lambda) = 0.7. Loss = 1.52868767969\n",
      "Converged in 8 steps. Regularisation parameter (lambda) = 0.7. Loss = 1.52452236411\n",
      "Converged in 8 steps. Regularisation parameter (lambda) = 0.7. Loss = 1.5258932792\n",
      "Converged in 8 steps. Regularisation parameter (lambda) = 0.7. Loss = 1.5234913016\n",
      "Lambda: 0.7  Average ERR: 0.284433346562  Average NDCG: 0.332459114673\n",
      "Converged in 10 steps. Regularisation parameter (lambda) = 0.8. Loss = 1.52853225248\n",
      "Converged in 10 steps. Regularisation parameter (lambda) = 0.8. Loss = 1.5321452727\n",
      "Divergent Transitions, reducing learning rate to 0.315\n",
      "Converged in 10 steps. Regularisation parameter (lambda) = 0.8. Loss = 1.52759821468\n",
      "Converged in 9 steps. Regularisation parameter (lambda) = 0.8. Loss = 1.52872995113\n",
      "Converged in 10 steps. Regularisation parameter (lambda) = 0.8. Loss = 1.52617690802\n",
      "Lambda: 0.8  Average ERR: 0.284596632025  Average NDCG: 0.332090978688\n",
      "Converged in 10 steps. Regularisation parameter (lambda) = 0.9. Loss = 1.53152289337\n",
      "Converged in 8 steps. Regularisation parameter (lambda) = 0.9. Loss = 1.53687647622\n",
      "Divergent Transitions, reducing learning rate to 0.315\n",
      "Converged in 10 steps. Regularisation parameter (lambda) = 0.9. Loss = 1.53129479497\n",
      "Converged in 10 steps. Regularisation parameter (lambda) = 0.9. Loss = 1.53182557409\n",
      "Converged in 10 steps. Regularisation parameter (lambda) = 0.9. Loss = 1.5291922186\n",
      "Lambda: 0.9  Average ERR: 0.283634619682  Average NDCG: 0.330811910204\n",
      "Converged in 10 steps. Regularisation parameter (lambda) = 1.0. Loss = 1.53490117346\n",
      "Divergent Transitions, reducing learning rate to 0.315\n",
      "Converged in 8 steps. Regularisation parameter (lambda) = 1.0. Loss = 1.54184942203\n",
      "Converged in 8 steps. Regularisation parameter (lambda) = 1.0. Loss = 1.53625925676\n",
      "Divergent Transitions, reducing learning rate to 0.315\n",
      "Converged in 10 steps. Regularisation parameter (lambda) = 1.0. Loss = 1.53544579573\n",
      "Converged in 10 steps. Regularisation parameter (lambda) = 1.0. Loss = 1.53258971447\n",
      "Lambda: 1.0  Average ERR: 0.283072837534  Average NDCG: 0.329305001454\n",
      "Converged in 10 steps. Regularisation parameter (lambda) = 1.1. Loss = 1.53905711149\n",
      "Divergent Transitions, reducing learning rate to 0.315\n",
      "Converged in 14 steps. Regularisation parameter (lambda) = 1.1. Loss = 1.53773063701\n",
      "Divergent Transitions, reducing learning rate to 0.315\n",
      "Converged in 8 steps. Regularisation parameter (lambda) = 1.1. Loss = 1.5418879235\n",
      "Divergent Transitions, reducing learning rate to 0.315\n",
      "Converged in 10 steps. Regularisation parameter (lambda) = 1.1. Loss = 1.54003280672\n",
      "Divergent Transitions, reducing learning rate to 0.315\n",
      "Converged in 10 steps. Regularisation parameter (lambda) = 1.1. Loss = 1.53680293645\n",
      "Lambda: 1.1  Average ERR: 0.282638224656  Average NDCG: 0.328124057573\n",
      "Divergent Transitions, reducing learning rate to 0.315\n",
      "Converged in 10 steps. Regularisation parameter (lambda) = 1.2. Loss = 1.54448331434\n",
      "Divergent Transitions, reducing learning rate to 0.315\n",
      "Converged in 14 steps. Regularisation parameter (lambda) = 1.2. Loss = 1.53951647754\n",
      "Divergent Transitions, reducing learning rate to 0.315\n",
      "Converged in 14 steps. Regularisation parameter (lambda) = 1.2. Loss = 1.5371798141\n",
      "Converged in 8 steps. Regularisation parameter (lambda) = 1.2. Loss = 1.54691571195\n",
      "Converged in 8 steps. Regularisation parameter (lambda) = 1.2. Loss = 1.54375204187\n",
      "Lambda: 1.2  Average ERR: 0.280417522898  Average NDCG: 0.32624463501\n",
      "Divergent Transitions, reducing learning rate to 0.315\n",
      "Converged in 8 steps. Regularisation parameter (lambda) = 1.3. Loss = 1.55343847879\n",
      "Divergent Transitions, reducing learning rate to 0.315\n",
      "Converged in 12 steps. Regularisation parameter (lambda) = 1.3. Loss = 1.54184092262\n",
      "Divergent Transitions, reducing learning rate to 0.315\n",
      "Converged in 12 steps. Regularisation parameter (lambda) = 1.3. Loss = 1.53935274274\n",
      "Divergent Transitions, reducing learning rate to 0.315\n",
      "Converged in 14 steps. Regularisation parameter (lambda) = 1.3. Loss = 1.54080226382\n",
      "Divergent Transitions, reducing learning rate to 0.315\n",
      "Converged in 14 steps. Regularisation parameter (lambda) = 1.3. Loss = 1.53753141268\n",
      "Lambda: 1.3  Average ERR: 0.281041405695  Average NDCG: 0.326960299937\n",
      "Converged in 4 steps. Regularisation parameter (lambda) = 1.4. Loss = 1.57750893802\n",
      "Divergent Transitions, reducing learning rate to 0.315\n",
      "Converged in 12 steps. Regularisation parameter (lambda) = 1.4. Loss = 1.54532990113\n",
      "Divergent Transitions, reducing learning rate to 0.315\n",
      "Converged in 12 steps. Regularisation parameter (lambda) = 1.4. Loss = 1.54092668943\n",
      "Divergent Transitions, reducing learning rate to 0.315\n",
      "Converged in 4 steps. Regularisation parameter (lambda) = 1.4. Loss = 1.57852649848\n",
      "Converged in 4 steps. Regularisation parameter (lambda) = 1.4. Loss = 1.57522056627\n",
      "Lambda: 1.4  Average ERR: 0.275857625872  Average NDCG: 0.317179790305\n",
      "Divergent Transitions, reducing learning rate to 0.315\n",
      "Converged in 14 steps. Regularisation parameter (lambda) = 1.5. Loss = 1.54286807824\n",
      "Divergent Transitions, reducing learning rate to 0.315\n",
      "Converged in 10 steps. Regularisation parameter (lambda) = 1.5. Loss = 1.54844898924\n",
      "Divergent Transitions, reducing learning rate to 0.315\n",
      "Divergent Transitions, reducing learning rate to 0.28350000000000003\n",
      "Converged in 12 steps. Regularisation parameter (lambda) = 1.5. Loss = 1.54517270987\n",
      "Divergent Transitions, reducing learning rate to 0.315\n",
      "Converged in 12 steps. Regularisation parameter (lambda) = 1.5. Loss = 1.54443734082\n",
      "Divergent Transitions, reducing learning rate to 0.315\n",
      "Converged in 14 steps. Regularisation parameter (lambda) = 1.5. Loss = 1.54100257163\n",
      "Lambda: 1.5  Average ERR: 0.281751257675  Average NDCG: 0.327277203269\n",
      "Divergent Transitions, reducing learning rate to 0.315\n",
      "Converged in 12 steps. Regularisation parameter (lambda) = 1.6. Loss = 1.54557589603\n",
      "Divergent Transitions, reducing learning rate to 0.315\n",
      "Divergent Transitions, reducing learning rate to 0.28350000000000003\n",
      "Converged in 10 steps. Regularisation parameter (lambda) = 1.6. Loss = 1.55359730001\n",
      "Divergent Transitions, reducing learning rate to 0.315\n",
      "Converged in 10 steps. Regularisation parameter (lambda) = 1.6. Loss = 1.54810416119\n",
      "Divergent Transitions, reducing learning rate to 0.315\n",
      "Converged in 12 steps. Regularisation parameter (lambda) = 1.6. Loss = 1.54623901995\n",
      "Divergent Transitions, reducing learning rate to 0.315\n",
      "Converged in 12 steps. Regularisation parameter (lambda) = 1.6. Loss = 1.54356403205\n",
      "Lambda: 1.6  Average ERR: 0.281767684313  Average NDCG: 0.326425622895\n",
      "Divergent Transitions, reducing learning rate to 0.315\n",
      "Converged in 12 steps. Regularisation parameter (lambda) = 1.7. Loss = 1.54976608792\n",
      "Divergent Transitions, reducing learning rate to 0.315\n",
      "Converged in 8 steps. Regularisation parameter (lambda) = 1.7. Loss = 1.56253684816\n",
      "Divergent Transitions, reducing learning rate to 0.315\n",
      "Divergent Transitions, reducing learning rate to 0.28350000000000003\n",
      "Converged in 10 steps. Regularisation parameter (lambda) = 1.7. Loss = 1.55426935735\n",
      "Divergent Transitions, reducing learning rate to 0.315\n",
      "Divergent Transitions, reducing learning rate to 0.28350000000000003\n",
      "Converged in 12 steps. Regularisation parameter (lambda) = 1.7. Loss = 1.55109052081\n",
      "Divergent Transitions, reducing learning rate to 0.315\n",
      "Converged in 12 steps. Regularisation parameter (lambda) = 1.7. Loss = 1.54786707591\n",
      "Lambda: 1.7  Average ERR: 0.280874095687  Average NDCG: 0.324187561331\n",
      "Divergent Transitions, reducing learning rate to 0.315\n",
      "Divergent Transitions, reducing learning rate to 0.28350000000000003\n",
      "Converged in 12 steps. Regularisation parameter (lambda) = 1.8. Loss = 1.55567219879\n",
      "Divergent Transitions, reducing learning rate to 0.315\n",
      "Divergent Transitions, reducing learning rate to 0.28350000000000003\n",
      "Converged in 18 steps. Regularisation parameter (lambda) = 1.8. Loss = 1.54763087568\n",
      "Divergent Transitions, reducing learning rate to 0.315\n",
      "Divergent Transitions, reducing learning rate to 0.28350000000000003\n",
      "Converged in 8 steps. Regularisation parameter (lambda) = 1.8. Loss = 1.56490981307\n",
      "Divergent Transitions, reducing learning rate to 0.315\n",
      "Converged in 10 steps. Regularisation parameter (lambda) = 1.8. Loss = 1.55887728331\n",
      "Divergent Transitions, reducing learning rate to 0.315\n",
      "Converged in 10 steps. Regularisation parameter (lambda) = 1.8. Loss = 1.55542668881\n",
      "Lambda: 1.8  Average ERR: 0.278635907893  Average NDCG: 0.322056180951\n",
      "Divergent Transitions, reducing learning rate to 0.315\n",
      "Divergent Transitions, reducing learning rate to 0.28350000000000003\n",
      "Converged in 10 steps. Regularisation parameter (lambda) = 1.9. Loss = 1.56583914812\n",
      "Divergent Transitions, reducing learning rate to 0.315\n",
      "Divergent Transitions, reducing learning rate to 0.28350000000000003\n",
      "Converged in 14 steps. Regularisation parameter (lambda) = 1.9. Loss = 1.54921276436\n",
      "Divergent Transitions, reducing learning rate to 0.315\n",
      "Divergent Transitions, reducing learning rate to 0.28350000000000003\n",
      "Converged in 16 steps. Regularisation parameter (lambda) = 1.9. Loss = 1.54608451313\n",
      "Divergent Transitions, reducing learning rate to 0.315\n",
      "Converged in 8 steps. Regularisation parameter (lambda) = 1.9. Loss = 1.57140169822\n",
      "Divergent Transitions, reducing learning rate to 0.315\n",
      "Converged in 8 steps. Regularisation parameter (lambda) = 1.9. Loss = 1.56745979024\n",
      "Lambda: 1.9  Average ERR: 0.277794823924  Average NDCG: 0.320571874725\n",
      "Divergent Transitions, reducing learning rate to 0.315\n",
      "Converged in 4 steps. Regularisation parameter (lambda) = 2.0. Loss = 1.60155273402\n",
      "Divergent Transitions, reducing learning rate to 0.315\n",
      "Divergent Transitions, reducing learning rate to 0.28350000000000003\n",
      "Converged in 14 steps. Regularisation parameter (lambda) = 2.0. Loss = 1.55184910333\n",
      "Divergent Transitions, reducing learning rate to 0.315\n",
      "Divergent Transitions, reducing learning rate to 0.28350000000000003\n",
      "Converged in 14 steps. Regularisation parameter (lambda) = 2.0. Loss = 1.54795137397\n",
      "Divergent Transitions, reducing learning rate to 0.315\n",
      "Divergent Transitions, reducing learning rate to 0.28350000000000003\n",
      "Converged in 14 steps. Regularisation parameter (lambda) = 2.0. Loss = 1.54842444937\n",
      "Divergent Transitions, reducing learning rate to 0.315\n",
      "Converged in 4 steps. Regularisation parameter (lambda) = 2.0. Loss = 1.59968023979\n",
      "Lambda: 2.0  Average ERR: 0.276842743151  Average NDCG: 0.318301854292\n"
     ]
    }
   ],
   "source": [
    "n = np.shape(X_train)[0]\n",
    "k = 5\n",
    "n_k = round(n/k)\n",
    "learningRate = 0.35\n",
    "maxIter = 700\n",
    "\n",
    "allndcgs = []\n",
    "allerrs = []\n",
    "avgndcgs = []\n",
    "avgerrs = []\n",
    "\n",
    "for lmda in np.arange(21):\n",
    "    ind = np.zeros(n, dtype = np.bool)\n",
    "    ind[0:n_k] = True\n",
    "    fldndcgs = []\n",
    "    flderrs = []\n",
    "    lam = (lmda)/10 # Min: step: max (0:0.1:2.0)\n",
    "    for fld in np.arange(k):\n",
    "        thisFoldXtrain = X_train_scaled[~ind,:]\n",
    "        thisFoldXval = X_train_scaled[ind,:]\n",
    "        thisFoldytrain = y_train[~ind]\n",
    "        thisFoldyval = y_train[ind]\n",
    "        thisFoldQidVal = qid_train[ind]\n",
    "        \n",
    "        opt_w,loss,_,_ = optimal_w_function(thisFoldXtrain,thisFoldytrain,lam,maxIter,learningRate)\n",
    "        prob = softmax_function(np.dot(thisFoldXval,opt_w))\n",
    "        prob_df = pd.DataFrame(data=prob, columns=['prob_0','prob_1','prob_2','prob_3','prob_4'])\n",
    "        rel = prob_df.apply(lambda x: (0)*x[0] + (1)*x[1] + (2)*x[2] + (3)*x[3] + (4)*x[4],axis=1)\n",
    "        query_labels = pd.DataFrame({'qid':thisFoldQidVal, 'label_true':thisFoldyval, 'ERel':rel}).groupby('qid')\n",
    "\n",
    "        mNdcg = ltr.evals.mean_ndcg(data=query_labels, sort_cols='ERel')\n",
    "        fldndcgs.append(mNdcg)\n",
    "        mErr = ltr.evals.mean_err(data=query_labels, sort_cols='ERel')\n",
    "        flderrs.append(mErr)\n",
    "        ind = np.roll(ind,n_k)\n",
    "    \n",
    "    avgerrs.append(np.mean(flderrs))\n",
    "    avgndcgs.append(np.mean(fldndcgs))\n",
    "    allerrs.append(flderrs)\n",
    "    allndcgs.append(fldndcgs)\n",
    "    print('Lambda: ' + str(lam) + '  Average ERR: ' + str(avgerrs[-1]) + '  Average NDCG: ' + str(avgndcgs[-1]))    "
   ]
  },
  {
   "cell_type": "code",
   "execution_count": 51,
   "metadata": {
    "collapsed": false
   },
   "outputs": [
    {
     "data": {
      "image/png": "[encoded data removed]",
      "text/plain": [
       "<matplotlib.figure.Figure at 0x115853f28>"
      ]
     },
     "metadata": {},
     "output_type": "display_data"
    }
   ],
   "source": [
    "plt.figure(num=None, figsize=(7, 6), dpi=80, facecolor='w', edgecolor='k')\n",
    "plt.plot(np.arange(21)/10, avgerrs/max(avgerrs),'r',label = 'err')\n",
    "plt.plot(np.arange(21)/10, avgndcgs/max(avgndcgs),'b',label = 'ndcg')\n",
    "plt.xlabel('Lambda')\n",
    "plt.ylabel('Normalised Test Score')\n",
    "plt.legend()\n",
    "#plt.savefig('valcores.png')\n",
    "plt.show()"
   ]
  },
  {
   "cell_type": "code",
   "execution_count": 52,
   "metadata": {
    "collapsed": false
   },
   "outputs": [
    {
     "data": {
      "image/png": "[encoded data removed]",
      "text/plain": [
       "<matplotlib.figure.Figure at 0x115ee4e10>"
      ]
     },
     "metadata": {},
     "output_type": "display_data"
    }
   ],
   "source": [
    "for j in [0,1,2,3,4]:\n",
    "    plt.plot(np.array(allndcgs)[:,j],label=j+1)\n",
    "    \n",
    "plt.legend()\n",
    "plt.show()"
   ]
  },
  {
   "cell_type": "code",
   "execution_count": 53,
   "metadata": {
    "collapsed": false
   },
   "outputs": [
    {
     "data": {
      "image/png": "[encoded data removed]",
      "text/plain": [
       "<matplotlib.figure.Figure at 0x115bf2828>"
      ]
     },
     "metadata": {},
     "output_type": "display_data"
    }
   ],
   "source": [
    "for j in [0,1,2,3,4]:\n",
    "    plt.plot(np.array(allerrs)[:,j],label=j+1)\n",
    "    \n",
    "plt.legend()\n",
    "plt.show()"
   ]
  },
  {
   "cell_type": "markdown",
   "metadata": {},
   "source": [
    "### Model Evaluation"
   ]
  },
  {
   "cell_type": "markdown",
   "metadata": {},
   "source": [
    "Creating dataframes of probabilities for each class:"
   ]
  },
  {
   "cell_type": "code",
   "execution_count": 29,
   "metadata": {
    "collapsed": false
   },
   "outputs": [],
   "source": [
    "prob_test = softmax_function(np.dot(X_test_scaled,w_opt))\n",
    "train_prob_df = pd.DataFrame(data=prob_train, columns=['prob_0','prob_1','prob_2','prob_3','prob_4'])\n",
    "test_prob_df = pd.DataFrame(data=prob_test, columns=['prob_0','prob_1','prob_2','prob_3','prob_4'])"
   ]
  },
  {
   "cell_type": "code",
   "execution_count": 30,
   "metadata": {
    "collapsed": false
   },
   "outputs": [
    {
     "data": {
      "text/html": [
       "<div>\n",
       "<table border=\"1\" class=\"dataframe\">\n",
       "  <thead>\n",
       "    <tr style=\"text-align: right;\">\n",
       "      <th></th>\n",
       "      <th>prob_0</th>\n",
       "      <th>prob_1</th>\n",
       "      <th>prob_2</th>\n",
       "      <th>prob_3</th>\n",
       "      <th>prob_4</th>\n",
       "    </tr>\n",
       "  </thead>\n",
       "  <tbody>\n",
       "    <tr>\n",
       "      <th>0</th>\n",
       "      <td>0.231294</td>\n",
       "      <td>0.168551</td>\n",
       "      <td>0.197467</td>\n",
       "      <td>0.202586</td>\n",
       "      <td>0.200102</td>\n",
       "    </tr>\n",
       "  </tbody>\n",
       "</table>\n",
       "</div>"
      ],
      "text/plain": [
       "     prob_0    prob_1    prob_2    prob_3    prob_4\n",
       "0  0.231294  0.168551  0.197467  0.202586  0.200102"
      ]
     },
     "execution_count": 30,
     "metadata": {},
     "output_type": "execute_result"
    }
   ],
   "source": [
    "train_prob_df.head(1)"
   ]
  },
  {
   "cell_type": "markdown",
   "metadata": {},
   "source": [
    "Calculating Expected Relevance as per Li, P., Burges, C. and Wu, Q. 2007. McRank: Learning to rank using multiple classification and gradient boosting. NIPS'07 Proceedings of the 20th International Conference on Neural Information Processing Systems. 2007: 897-904:"
   ]
  },
  {
   "cell_type": "code",
   "execution_count": 31,
   "metadata": {
    "collapsed": false
   },
   "outputs": [],
   "source": [
    "# Weights for each class\n",
    "w0 = 1\n",
    "w1 = 2\n",
    "w2 = 3\n",
    "w3 = 4\n",
    "w4 = 5\n",
    "\n",
    "train_rel = train_prob_df.apply(lambda x: w0*x[0] + w1*x[1] + w2*x[2] + w3*x[3] + w4*x[4],axis=1)\n",
    "test_rel = test_prob_df.apply(lambda x: w0*x[0] + w1*x[1] + w2*x[2] + w3*x[3] + w4*x[4],axis=1)"
   ]
  },
  {
   "cell_type": "markdown",
   "metadata": {},
   "source": [
    "Creating dataframes in format required for utils.rank_query (Query ID, True label, Expected relevance):"
   ]
  },
  {
   "cell_type": "code",
   "execution_count": 32,
   "metadata": {
    "collapsed": false
   },
   "outputs": [],
   "source": [
    "query_labels_train = pd.DataFrame({'qid':qid_train, 'label_true':y_train, 'ERel':train_rel}).groupby('qid')\n",
    "query_labels_test = pd.DataFrame({'qid':qid_test, 'label_true':y_test, 'ERel':test_rel}).groupby('qid')"
   ]
  },
  {
   "cell_type": "markdown",
   "metadata": {},
   "source": [
    "##### Accuracy"
   ]
  },
  {
   "cell_type": "markdown",
   "metadata": {},
   "source": [
    "Calculating accuracy (proportion of correctly predicted labels:\n",
    "\n",
    "$$\n",
    "Accuracy = \\frac{\\sum_{i}^{n}\\mathcal{I}(y_{pred,i} = y_{true,i})}{n}\n",
    "$$\n",
    "\n",
    "where $\\mathcal{I}$ is an indicator function which equals 1 if the predicted label is equal to the true label, and 0 otherwise"
   ]
  },
  {
   "cell_type": "code",
   "execution_count": 33,
   "metadata": {
    "collapsed": false
   },
   "outputs": [
    {
     "name": "stdout",
     "output_type": "stream",
     "text": [
      "Training Accuracy: 0.519428810083\n",
      "Test Accuracy: 0.509583055271\n"
     ]
    }
   ],
   "source": [
    "print('Training Accuracy: ' + str(ltr.evals.accuracy(prob_train, y_train)))\n",
    "print('Test Accuracy: ' + str(ltr.evals.accuracy(prob_test, y_test)))"
   ]
  },
  {
   "cell_type": "markdown",
   "metadata": {},
   "source": [
    "##### Mean Normalised Discounted Cumulative Gain (NDCG)\n",
    "\n",
    "We used the following formulation of NDCG:\n",
    "\n",
    "$$\n",
    "nDCG_{p} = \\frac{DCG_{p}}{IDCG_{p}}\n",
    "$$\n",
    "\n",
    "where:\n",
    "\n",
    "$$\n",
    "DCG_{p} = \\sum_{i=1}^{p} \\frac{rel_{i}}{\\log_2(i+1)}\n",
    "$$\n",
    "\n",
    "$$\n",
    "IDCG_{p} = \\sum_{i=1}^{|REL|} \\frac{2^{rel_{i}}}{\\log_2(i+1)}\n",
    "$$"
   ]
  },
  {
   "cell_type": "code",
   "execution_count": 37,
   "metadata": {
    "collapsed": false
   },
   "outputs": [
    {
     "name": "stdout",
     "output_type": "stream",
     "text": [
      "Mean Train NDCG 0.325798813466\n",
      "Mean Test NDCG 0.330226362307\n"
     ]
    }
   ],
   "source": [
    "print('Mean Train NDCG ' + str(ltr.evals.mean_ndcg(data=query_labels_train, sort_cols='ERel', non_linear_gain='y')))\n",
    "print('Mean Test NDCG ' + str(ltr.evals.mean_ndcg(data=query_labels_test,sort_cols='ERel', non_linear_gain='y')))"
   ]
  },
  {
   "cell_type": "markdown",
   "metadata": {},
   "source": [
    "##### Mean Expected Reciprocal Rank (ERR)\n",
    "\n",
    "We used the following formulation of ERR:  \n",
    "$$\n",
    "ERR := \\sum_{r=1}^{n} \\dfrac{1}{r} P(\\textrm{user stops at position } r)\n",
    "$$\n",
    "\n",
    "$$\n",
    "    := \\sum_{r=1}^{n} \\dfrac{1}{r}\\prod_{i=1}^{r-1}(1-R_{i})R_{r}\n",
    "$$"
   ]
  },
  {
   "cell_type": "code",
   "execution_count": 38,
   "metadata": {
    "collapsed": false
   },
   "outputs": [
    {
     "name": "stdout",
     "output_type": "stream",
     "text": [
      "Mean Train ERR 0.28044092066\n",
      "Mean Test ERR 0.284659597177\n"
     ]
    }
   ],
   "source": [
    "print('Mean Train ERR ' + str(ltr.evals.mean_err(data=query_labels_train, sort_cols='ERel')))\n",
    "print('Mean Test ERR ' + str(ltr.evals.mean_err(data=query_labels_test, sort_cols='ERel')))"
   ]
  },
  {
   "cell_type": "markdown",
   "metadata": {},
   "source": [
    "### Regularisation"
   ]
  },
  {
   "cell_type": "markdown",
   "metadata": {},
   "source": [
    "#### Bayesian Logsitic Regression with regularisation parameter lambda tuned via marginal likelihood maximisation"
   ]
  },
  {
   "cell_type": "markdown",
   "metadata": {},
   "source": [
    "Training:  \n",
    "ARD: Automatic Relevance Determination (i.e. variable selection)"
   ]
  },
  {
   "cell_type": "code",
   "execution_count": null,
   "metadata": {
    "collapsed": true
   },
   "outputs": [],
   "source": [
    "# rvm = ClassificationARD()          \n",
    "# f = rvm.fit(X_train,y_train)       "
   ]
  },
  {
   "cell_type": "markdown",
   "metadata": {},
   "source": [
    "Saved model can be opened as a pickle file:"
   ]
  },
  {
   "cell_type": "code",
   "execution_count": 39,
   "metadata": {
    "collapsed": true
   },
   "outputs": [],
   "source": [
    "with open('../models/ardFit.pkl', 'rb') as fid:\n",
    "    f = pickle.load(fid) "
   ]
  },
  {
   "cell_type": "markdown",
   "metadata": {},
   "source": [
    "Evaluation:"
   ]
  },
  {
   "cell_type": "code",
   "execution_count": 40,
   "metadata": {
    "collapsed": false
   },
   "outputs": [
    {
     "name": "stdout",
     "output_type": "stream",
     "text": [
      "Classification Accuracy: 0.548391347409 Mean ERR: 0.338555034261 Mean NDCG: 0.382874246935\n"
     ]
    }
   ],
   "source": [
    "p = f.predict_proba(X_test)\n",
    "accuracy = f.score(X_test,y_test)\n",
    "prob_df = pd.DataFrame(data=p, columns=['prob_0','prob_1','prob_2','prob_3','prob_4'])\n",
    "rel = prob_df.apply(lambda x: 0*x[0] + 1*x[1] + 2*x[2] + 3*x[3] + 4*x[4],axis=1)\n",
    "query_labels = pd.DataFrame({'qid':qid_test, 'label_true':y_test, 'ERel':rel}).groupby('qid')\n",
    "mNdcg = ltr.evals.mean_ndcg(data=query_labels, sort_cols='ERel')\n",
    "mErr = ltr.evals.mean_err(data=query_labels, sort_cols='ERel')\n",
    "print('Classification Accuracy: ' + str(accuracy) + ' Mean ERR: ' + str(mErr) + ' Mean NDCG: ' + str(mNdcg))"
   ]
  },
  {
   "cell_type": "markdown",
   "metadata": {},
   "source": [
    "#### Logistic Regression using L1 regularisation (LASSO)"
   ]
  },
  {
   "cell_type": "markdown",
   "metadata": {},
   "source": [
    "Training:"
   ]
  },
  {
   "cell_type": "code",
   "execution_count": null,
   "metadata": {
    "collapsed": true
   },
   "outputs": [],
   "source": [
    "# lr = LogisticRegression(penalty = 'l1')               \n",
    "# lr.fit(X_train[0:100000], y_train[0:100000])  "
   ]
  },
  {
   "cell_type": "markdown",
   "metadata": {},
   "source": [
    "Saved model can be opened as a pickle file:"
   ]
  },
  {
   "cell_type": "code",
   "execution_count": 41,
   "metadata": {
    "collapsed": true
   },
   "outputs": [],
   "source": [
    "with open('../models/L1_logistic.pkl', 'rb') as fid:\n",
    "    lr = pickle.load(fid)"
   ]
  },
  {
   "cell_type": "markdown",
   "metadata": {},
   "source": [
    "Evaluation:"
   ]
  },
  {
   "cell_type": "code",
   "execution_count": 44,
   "metadata": {
    "collapsed": false
   },
   "outputs": [
    {
     "name": "stderr",
     "output_type": "stream",
     "text": [
      "/Users/gpeake/anaconda/lib/python3.6/site-packages/sklearn/linear_model/base.py:352: RuntimeWarning: overflow encountered in exp\n",
      "  np.exp(prob, prob)\n"
     ]
    },
    {
     "name": "stdout",
     "output_type": "stream",
     "text": [
      "Classification Accuracy: 0.548365843602 Mean ERR: 0.346016735165 Mean NDCG: 0.388448513538\n"
     ]
    }
   ],
   "source": [
    "p = lr.predict_proba(X_test)\n",
    "accuracy = lr.score(X_test,y_test)\n",
    "prob_df = pd.DataFrame(data=p, columns=['prob_0','prob_1','prob_2','prob_3','prob_4'])\n",
    "rel = prob_df.apply(lambda x: 0*x[0] + 1*x[1] + 2*x[2] + 3*x[3] + 4*x[4],axis=1)\n",
    "query_labels = pd.DataFrame({'qid':qid_test, 'label_true':y_test, 'ERel':rel}).groupby('qid')\n",
    "mNdcg = ltr.evals.mean_ndcg(data=query_labels, sort_cols='ERel')\n",
    "mErr = ltr.evals.mean_err(data=query_labels, sort_cols='ERel')\n",
    "print('Classification Accuracy: ' + str(accuracy) + ' Mean ERR: ' + str(mErr) + ' Mean NDCG: ' + str(mNdcg))"
   ]
  },
  {
   "cell_type": "markdown",
   "metadata": {},
   "source": [
    "#### Logistic Regression using L2 regularisation (Ridge) - using optimised regularisation parameter (lambda) by 5-fold CV"
   ]
  },
  {
   "cell_type": "markdown",
   "metadata": {},
   "source": [
    "Training:"
   ]
  },
  {
   "cell_type": "code",
   "execution_count": 56,
   "metadata": {
    "collapsed": false
   },
   "outputs": [
    {
     "name": "stdout",
     "output_type": "stream",
     "text": [
      "Converged in 15 steps. Regularisation parameter (lambda) = 0.4. Loss = 1.5169892323\n"
     ]
    }
   ],
   "source": [
    "w_opt_cv, loss_cv, losses_cv, prob_train_cv = optimal_w_function(X_train_scaled,y_train,0.4)"
   ]
  },
  {
   "cell_type": "markdown",
   "metadata": {},
   "source": [
    "Evaluation:"
   ]
  },
  {
   "cell_type": "code",
   "execution_count": 61,
   "metadata": {
    "collapsed": false
   },
   "outputs": [
    {
     "name": "stdout",
     "output_type": "stream",
     "text": [
      "Classification Accuracy: 0.548365843602 Mean ERR: 0.286831236154 Mean NDCG: 0.33237518722\n"
     ]
    }
   ],
   "source": [
    "p = scoring_function(w_opt_cv, X_test_scaled)\n",
    "prob_df = pd.DataFrame(data=p, columns=['prob_0','prob_1','prob_2','prob_3','prob_4'])\n",
    "rel = prob_df.apply(lambda x: 0*x[0] + 1*x[1] + 2*x[2] + 3*x[3] + 4*x[4],axis=1)\n",
    "query_labels = pd.DataFrame({'qid':qid_test, 'label_true':y_test, 'ERel':rel}).groupby('qid')\n",
    "mNdcg = ltr.evals.mean_ndcg(data=query_labels, sort_cols='ERel')\n",
    "mErr = ltr.evals.mean_err(data=query_labels, sort_cols='ERel')\n",
    "print('Classification Accuracy: ' + str(accuracy) + ' Mean ERR: ' + str(mErr) + ' Mean NDCG: ' + str(mNdcg))"
   ]
  },
  {
   "cell_type": "markdown",
   "metadata": {},
   "source": [
    "##### Heatmap of weights for Bayesian and Logistic Regression (L1 regularisation):"
   ]
  },
  {
   "cell_type": "code",
   "execution_count": 62,
   "metadata": {
    "collapsed": false
   },
   "outputs": [
    {
     "data": {
      "image/png": "[encoded data removed]",
      "text/plain": [
       "<matplotlib.figure.Figure at 0x116222be0>"
      ]
     },
     "metadata": {},
     "output_type": "display_data"
    }
   ],
   "source": [
    "fig, (ax1, ax2, ax3) = plt.subplots(ncols=3, sharey=True, figsize = (15,7))\n",
    "sns.heatmap(f.coef_.T, ax=ax1)\n",
    "sns.heatmap(lr.coef_.T, ax=ax2)\n",
    "sns.heatmap(w_opt_cv, ax=ax3)\n",
    "ax1.set_title('Bayesian Weights Heatmap')\n",
    "ax2.set_title('Lasso Weights Heatmap')\n",
    "ax3.set_title('L2 Weights Heatmap')\n",
    "sns.plt.show()"
   ]
  }
 ],
 "metadata": {
  "anaconda-cloud": {},
  "kernelspec": {
   "display_name": "Python 3",
   "language": "python",
   "name": "python3"
  },
  "language_info": {
   "codemirror_mode": {
    "name": "ipython",
    "version": 3
   },
   "file_extension": ".py",
   "mimetype": "text/x-python",
   "name": "python",
   "nbconvert_exporter": "python",
   "pygments_lexer": "ipython3",
   "version": "3.6.0"
  }
 },
 "nbformat": 4,
 "nbformat_minor": 1
}
