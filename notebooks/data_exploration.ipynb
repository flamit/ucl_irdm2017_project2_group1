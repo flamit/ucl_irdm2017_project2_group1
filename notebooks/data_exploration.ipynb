{
 "cells": [
  {
   "cell_type": "markdown",
   "metadata": {},
   "source": [
    "### Imports and Configuration"
   ]
  },
  {
   "cell_type": "code",
   "execution_count": 1,
   "metadata": {
    "collapsed": true
   },
   "outputs": [],
   "source": [
    "import pandas as pd\n",
    "import numpy as np\n",
    "%matplotlib inline\n",
    "import matplotlib.pyplot as plt\n",
    "import seaborn as sns\n",
    "import itertools\n",
    "from itertools import combinations\n",
    "import random\n",
    "from collections import Counter\n",
    "import matplotlib.ticker as ticker\n",
    "import scipy"
   ]
  },
  {
   "cell_type": "code",
   "execution_count": 2,
   "metadata": {
    "collapsed": true
   },
   "outputs": [],
   "source": [
    "import sys \n",
    "import os\n",
    "sys.path.append(os.path.abspath(\"../../ucl_irdm2017_project2_group1\"))"
   ]
  },
  {
   "cell_type": "code",
   "execution_count": 5,
   "metadata": {
    "collapsed": true
   },
   "outputs": [],
   "source": [
    "import ltr.data_load"
   ]
  },
  {
   "cell_type": "markdown",
   "metadata": {},
   "source": [
    "### Data Loading and Preparation"
   ]
  },
  {
   "cell_type": "markdown",
   "metadata": {},
   "source": [
    "**Run first cell once to generate CSVs. Once generated, files can be loaded in using second cell**"
   ]
  },
  {
   "cell_type": "code",
   "execution_count": 9,
   "metadata": {
    "collapsed": true
   },
   "outputs": [],
   "source": [
    "fpath = \"../../\""
   ]
  },
  {
   "cell_type": "code",
   "execution_count": null,
   "metadata": {
    "collapsed": false
   },
   "outputs": [],
   "source": [
    "data_train = ltr.data_load.make_rank_data_csv(fpath, 1, 'train')\n",
    "data_vali = ltr.data_load.make_rank_data_csv(fpath, 1, 'vali')\n",
    "data_test = ltr.data_load.make_rank_data_csv(fpath, 1, 'test')"
   ]
  },
  {
   "cell_type": "code",
   "execution_count": 11,
   "metadata": {
    "collapsed": false
   },
   "outputs": [],
   "source": [
    "data_train = pd.read_csv('{fpath}train_fld1_df.csv'.format(fpath=fpath), index_col=0)\n",
    "data_vali = pd.read_csv('{fpath}test_fld1_df.csv'.format(fpath=fpath), index_col=0)\n",
    "data_test = pd.read_csv('{fpath}vali_fld1_df.csv'.format(fpath=fpath), index_col=0)"
   ]
  },
  {
   "cell_type": "code",
   "execution_count": 12,
   "metadata": {
    "collapsed": true
   },
   "outputs": [],
   "source": [
    "X_train = data_train.ix[:,2:].as_matrix()\n",
    "y_train = data_train.ix[:,0].as_matrix()\n",
    "qid_train = data_train.ix[:,1].as_matrix()\n",
    "X_vali = data_vali.ix[:,2:].as_matrix()\n",
    "y_vali = data_vali.ix[:,0].as_matrix()\n",
    "qid_vali = data_vali.ix[:,1].as_matrix()\n",
    "X_test = data_test.ix[:,2:].as_matrix()\n",
    "y_test = data_test.ix[:,0].as_matrix()\n",
    "qid_test = data_test.ix[:,1].as_matrix()"
   ]
  },
  {
   "cell_type": "code",
   "execution_count": 13,
   "metadata": {
    "collapsed": false
   },
   "outputs": [
    {
     "data": {
      "text/html": [
       "<div>\n",
       "<table border=\"1\" class=\"dataframe\">\n",
       "  <thead>\n",
       "    <tr style=\"text-align: right;\">\n",
       "      <th></th>\n",
       "      <th>label</th>\n",
       "      <th>query_id</th>\n",
       "      <th>covered query term number - body</th>\n",
       "      <th>covered query term number - anchor</th>\n",
       "      <th>covered query term number - title</th>\n",
       "      <th>covered query term number - url</th>\n",
       "      <th>covered query term number - whole document</th>\n",
       "      <th>covered query term ratio - body</th>\n",
       "      <th>covered query term ratio - anchor</th>\n",
       "      <th>covered query term ratio - title</th>\n",
       "      <th>...</th>\n",
       "      <th>Length of URL</th>\n",
       "      <th>Inlink number</th>\n",
       "      <th>Outlink number</th>\n",
       "      <th>PageRank</th>\n",
       "      <th>SiteRank</th>\n",
       "      <th>QualityScore</th>\n",
       "      <th>QualityScore2</th>\n",
       "      <th>Query-url click count</th>\n",
       "      <th>url click count</th>\n",
       "      <th>url dwell time</th>\n",
       "    </tr>\n",
       "  </thead>\n",
       "  <tbody>\n",
       "    <tr>\n",
       "      <th>0</th>\n",
       "      <td>2</td>\n",
       "      <td>1</td>\n",
       "      <td>3</td>\n",
       "      <td>3</td>\n",
       "      <td>0</td>\n",
       "      <td>0</td>\n",
       "      <td>3</td>\n",
       "      <td>1.0</td>\n",
       "      <td>1.0</td>\n",
       "      <td>0.000000</td>\n",
       "      <td>...</td>\n",
       "      <td>62</td>\n",
       "      <td>11089534</td>\n",
       "      <td>2</td>\n",
       "      <td>116</td>\n",
       "      <td>64034</td>\n",
       "      <td>13</td>\n",
       "      <td>3</td>\n",
       "      <td>0</td>\n",
       "      <td>0</td>\n",
       "      <td>0.0</td>\n",
       "    </tr>\n",
       "    <tr>\n",
       "      <th>1</th>\n",
       "      <td>2</td>\n",
       "      <td>1</td>\n",
       "      <td>3</td>\n",
       "      <td>0</td>\n",
       "      <td>3</td>\n",
       "      <td>0</td>\n",
       "      <td>3</td>\n",
       "      <td>1.0</td>\n",
       "      <td>0.0</td>\n",
       "      <td>1.000000</td>\n",
       "      <td>...</td>\n",
       "      <td>54</td>\n",
       "      <td>11089534</td>\n",
       "      <td>2</td>\n",
       "      <td>124</td>\n",
       "      <td>64034</td>\n",
       "      <td>1</td>\n",
       "      <td>2</td>\n",
       "      <td>0</td>\n",
       "      <td>0</td>\n",
       "      <td>0.0</td>\n",
       "    </tr>\n",
       "    <tr>\n",
       "      <th>2</th>\n",
       "      <td>0</td>\n",
       "      <td>1</td>\n",
       "      <td>3</td>\n",
       "      <td>0</td>\n",
       "      <td>2</td>\n",
       "      <td>0</td>\n",
       "      <td>3</td>\n",
       "      <td>1.0</td>\n",
       "      <td>0.0</td>\n",
       "      <td>0.666667</td>\n",
       "      <td>...</td>\n",
       "      <td>45</td>\n",
       "      <td>3</td>\n",
       "      <td>1</td>\n",
       "      <td>124</td>\n",
       "      <td>3344</td>\n",
       "      <td>14</td>\n",
       "      <td>67</td>\n",
       "      <td>0</td>\n",
       "      <td>0</td>\n",
       "      <td>0.0</td>\n",
       "    </tr>\n",
       "  </tbody>\n",
       "</table>\n",
       "<p>3 rows × 138 columns</p>\n",
       "</div>"
      ],
      "text/plain": [
       "   label  query_id  covered query term number - body  \\\n",
       "0      2         1                                 3   \n",
       "1      2         1                                 3   \n",
       "2      0         1                                 3   \n",
       "\n",
       "   covered query term number - anchor  covered query term number - title  \\\n",
       "0                                   3                                  0   \n",
       "1                                   0                                  3   \n",
       "2                                   0                                  2   \n",
       "\n",
       "   covered query term number - url  \\\n",
       "0                                0   \n",
       "1                                0   \n",
       "2                                0   \n",
       "\n",
       "   covered query term number - whole document  \\\n",
       "0                                           3   \n",
       "1                                           3   \n",
       "2                                           3   \n",
       "\n",
       "   covered query term ratio - body  covered query term ratio - anchor  \\\n",
       "0                              1.0                                1.0   \n",
       "1                              1.0                                0.0   \n",
       "2                              1.0                                0.0   \n",
       "\n",
       "   covered query term ratio - title       ...        Length of URL  \\\n",
       "0                          0.000000       ...                   62   \n",
       "1                          1.000000       ...                   54   \n",
       "2                          0.666667       ...                   45   \n",
       "\n",
       "   Inlink number  Outlink number  PageRank  SiteRank  QualityScore  \\\n",
       "0       11089534               2       116     64034            13   \n",
       "1       11089534               2       124     64034             1   \n",
       "2              3               1       124      3344            14   \n",
       "\n",
       "   QualityScore2  Query-url click count  url click count  url dwell time  \n",
       "0              3                      0                0             0.0  \n",
       "1              2                      0                0             0.0  \n",
       "2             67                      0                0             0.0  \n",
       "\n",
       "[3 rows x 138 columns]"
      ]
     },
     "execution_count": 13,
     "metadata": {},
     "output_type": "execute_result"
    }
   ],
   "source": [
    "data_train.head(3)"
   ]
  },
  {
   "cell_type": "markdown",
   "metadata": {},
   "source": [
    "## Size of dataset"
   ]
  },
  {
   "cell_type": "markdown",
   "metadata": {},
   "source": [
    "**Number of results:**"
   ]
  },
  {
   "cell_type": "code",
   "execution_count": 14,
   "metadata": {
    "collapsed": false
   },
   "outputs": [
    {
     "name": "stdout",
     "output_type": "stream",
     "text": [
      "Train: 723412\n",
      "Validation: 241521\n",
      "Test: 235259\n",
      "TOTAL: 1200192\n"
     ]
    }
   ],
   "source": [
    "print(\"Train: \" + str(len(X_train)))\n",
    "print(\"Validation: \" + str(len(X_vali)))\n",
    "print(\"Test: \" + str(len(X_test)))\n",
    "print(\"TOTAL: \" + str(len(X_train)+len(X_vali)+len(X_test)))"
   ]
  },
  {
   "cell_type": "markdown",
   "metadata": {},
   "source": [
    "**Number of queries:**"
   ]
  },
  {
   "cell_type": "code",
   "execution_count": 15,
   "metadata": {
    "collapsed": false
   },
   "outputs": [
    {
     "name": "stdout",
     "output_type": "stream",
     "text": [
      "Train: 6000\n",
      "Validation: 2000\n",
      "Test: 2000\n",
      "TOTAL: 10000\n"
     ]
    }
   ],
   "source": [
    "print(\"Train: \" + str(len(np.unique(qid_train))))\n",
    "print(\"Validation: \" + str(len(np.unique(qid_vali))))\n",
    "print(\"Test: \" + str(len(np.unique(qid_test))))\n",
    "print(\"TOTAL: \" + str(len(np.unique(qid_train))+len(np.unique(qid_vali))+len(np.unique(qid_test))))"
   ]
  },
  {
   "cell_type": "markdown",
   "metadata": {},
   "source": [
    "**Dimensionality of data:**"
   ]
  },
  {
   "cell_type": "code",
   "execution_count": 16,
   "metadata": {
    "collapsed": false
   },
   "outputs": [
    {
     "name": "stdout",
     "output_type": "stream",
     "text": [
      "Number of Dimension in input data: 136\n"
     ]
    }
   ],
   "source": [
    "print(\"Number of Dimension in input data: \" + str(data_train.ix[:,2:].shape[1]))"
   ]
  },
  {
   "cell_type": "markdown",
   "metadata": {},
   "source": [
    "## Summary statistics"
   ]
  },
  {
   "cell_type": "code",
   "execution_count": 39,
   "metadata": {
    "collapsed": false
   },
   "outputs": [
    {
     "data": {
      "text/plain": [
       "count    723412.000000\n",
       "mean          0.665307\n",
       "std           0.822127\n",
       "min           0.000000\n",
       "25%           0.000000\n",
       "50%           0.000000\n",
       "75%           1.000000\n",
       "max           4.000000\n",
       "Name: label, dtype: float64"
      ]
     },
     "execution_count": 39,
     "metadata": {},
     "output_type": "execute_result"
    }
   ],
   "source": [
    "data_train['label'].describe()"
   ]
  },
  {
   "cell_type": "markdown",
   "metadata": {},
   "source": [
    "## Distribution of true relevance labels (comined training and validation set)"
   ]
  },
  {
   "cell_type": "code",
   "execution_count": 18,
   "metadata": {
    "collapsed": false
   },
   "outputs": [],
   "source": [
    "full_train = pd.concat([data_train, data_vali])\n",
    "full_train = full_train.ix[:,['label','query_id']]"
   ]
  },
  {
   "cell_type": "markdown",
   "metadata": {},
   "source": [
    "Counts of true relevance labels:"
   ]
  },
  {
   "cell_type": "code",
   "execution_count": 21,
   "metadata": {
    "collapsed": false
   },
   "outputs": [
    {
     "name": "stdout",
     "output_type": "stream",
     "text": [
      "0    502741\n",
      "1    310465\n",
      "2    127541\n",
      "3     17108\n",
      "4      7078\n",
      "Name: label, dtype: int64\n"
     ]
    }
   ],
   "source": [
    "print(full_train['label'].value_counts())"
   ]
  },
  {
   "cell_type": "markdown",
   "metadata": {},
   "source": [
    "Percentage of true relevance labels in dataset:"
   ]
  },
  {
   "cell_type": "code",
   "execution_count": 22,
   "metadata": {
    "collapsed": false
   },
   "outputs": [
    {
     "name": "stdout",
     "output_type": "stream",
     "text": [
      "0    0.521011\n",
      "1    0.321748\n",
      "2    0.132176\n",
      "3    0.017730\n",
      "4    0.007335\n",
      "Name: label, dtype: float64\n"
     ]
    }
   ],
   "source": [
    "print(full_train['label'].value_counts(normalize=True))"
   ]
  },
  {
   "cell_type": "markdown",
   "metadata": {},
   "source": [
    "Countplot of true relevance labels:"
   ]
  },
  {
   "cell_type": "code",
   "execution_count": 36,
   "metadata": {
    "collapsed": false
   },
   "outputs": [
    {
     "data": {
      "text/plain": [
       "[<matplotlib.text.Text at 0x12194a3c8>,\n",
       " <matplotlib.text.Text at 0x12186a588>,\n",
       " <matplotlib.text.Text at 0x121bb8048>]"
      ]
     },
     "execution_count": 36,
     "metadata": {},
     "output_type": "execute_result"
    },
    {
     "data": {
      "image/png": "[encoded data removed]",
      "text/plain": [
       "<matplotlib.figure.Figure at 0x121735c88>"
      ]
     },
     "metadata": {},
     "output_type": "display_data"
    }
   ],
   "source": [
    "sns.set_style(\"whitegrid\")\n",
    "sns.set_context(\"poster\")\n",
    "ax = sns.countplot(x='label', data=full_train, palette=\"coolwarm\")\n",
    "ax.set(xlabel='Relevance label', ylabel='Count', title='Counts of relevance labels in combined training and validation data')"
   ]
  },
  {
   "cell_type": "markdown",
   "metadata": {},
   "source": [
    "Boxplot of distribution of counts for each relevance label:"
   ]
  },
  {
   "cell_type": "code",
   "execution_count": 24,
   "metadata": {
    "collapsed": false
   },
   "outputs": [],
   "source": [
    "full_train_grpd = full_train.groupby('query_id')"
   ]
  },
  {
   "cell_type": "code",
   "execution_count": 25,
   "metadata": {
    "collapsed": true
   },
   "outputs": [],
   "source": [
    "label_counts = {qid:Counter(full_train_grpd.get_group(qid)['label']) for qid in list(set(full_train['query_id']))}"
   ]
  },
  {
   "cell_type": "code",
   "execution_count": 26,
   "metadata": {
    "collapsed": true
   },
   "outputs": [],
   "source": [
    "label_counts_0 = [qid[0] for qid in label_counts.values()]\n",
    "label_counts_1 = [qid[1] for qid in label_counts.values()]\n",
    "label_counts_2 = [qid[2] for qid in label_counts.values()]\n",
    "label_counts_3 = [qid[3] for qid in label_counts.values()]\n",
    "label_counts_4 = [qid[4] for qid in label_counts.values()]"
   ]
  },
  {
   "cell_type": "code",
   "execution_count": 27,
   "metadata": {
    "collapsed": false
   },
   "outputs": [
    {
     "data": {
      "text/plain": [
       "DescribeResult(nobs=8000, minmax=(0, 450), mean=38.808124999999997, variance=1071.346477294037, skewness=2.0091717332440884, kurtosis=9.51075420024756)"
      ]
     },
     "execution_count": 27,
     "metadata": {},
     "output_type": "execute_result"
    }
   ],
   "source": [
    "scipy.stats.describe(label_counts_1)"
   ]
  },
  {
   "cell_type": "code",
   "execution_count": 28,
   "metadata": {
    "collapsed": true
   },
   "outputs": [],
   "source": [
    "label_counts_df = pd.DataFrame({'label_0':label_counts_0, 'label_1':label_counts_1, 'label_2':label_counts_2, 'label_3':label_counts_3, 'label_4':label_counts_4})"
   ]
  },
  {
   "cell_type": "code",
   "execution_count": 37,
   "metadata": {
    "collapsed": false
   },
   "outputs": [
    {
     "data": {
      "text/plain": [
       "[<matplotlib.text.Text at 0x121ef7d68>,\n",
       " <matplotlib.text.Text at 0x1219b0748>,\n",
       " <matplotlib.text.Text at 0x1224a5208>]"
      ]
     },
     "execution_count": 37,
     "metadata": {},
     "output_type": "execute_result"
    },
    {
     "data": {
      "image/png": "[encoded data removed]",
      "text/plain": [
       "<matplotlib.figure.Figure at 0x1221beba8>"
      ]
     },
     "metadata": {},
     "output_type": "display_data"
    }
   ],
   "source": [
    "sns.set_style(\"whitegrid\")\n",
    "sns.set_context(\"poster\")\n",
    "ax = sns.boxplot(data=label_counts_df, palette=\"coolwarm\", showfliers=False)\n",
    "ax.set(xlabel='Relevance label', ylabel='Count', title='Boxplot showing distribution of relevance label counts')"
   ]
  },
  {
   "cell_type": "markdown",
   "metadata": {},
   "source": [
    "## Number of documents per query"
   ]
  },
  {
   "cell_type": "code",
   "execution_count": 30,
   "metadata": {
    "collapsed": false
   },
   "outputs": [],
   "source": [
    "unique_qry  = full_train['query_id'].unique()\n",
    "num_docs = []\n",
    "for i in unique_qry:\n",
    "    num_docs.append(full_train[full_train['query_id'] == i].shape[0])"
   ]
  },
  {
   "cell_type": "code",
   "execution_count": 31,
   "metadata": {
    "collapsed": false
   },
   "outputs": [],
   "source": [
    "data = pd.DataFrame({'Query':unique_qry,'Number of Documents':num_docs})\n",
    "data.sort_values(by=\"Number of Documents\",ascending=False,inplace=True)\n",
    "data.index = range(len(unique_qry))"
   ]
  },
  {
   "cell_type": "code",
   "execution_count": 32,
   "metadata": {
    "collapsed": false
   },
   "outputs": [],
   "source": [
    "query_id_order = list(data['Query'])"
   ]
  },
  {
   "cell_type": "code",
   "execution_count": 38,
   "metadata": {
    "collapsed": false
   },
   "outputs": [
    {
     "data": {
      "text/plain": [
       "[<matplotlib.text.Text at 0x12312e550>,\n",
       " [],\n",
       " <matplotlib.text.Text at 0x122d99c88>,\n",
       " <matplotlib.text.Text at 0x1233f9eb8>]"
      ]
     },
     "execution_count": 38,
     "metadata": {},
     "output_type": "execute_result"
    },
    {
     "data": {
      "image/png": "[encoded data removed]",
      "text/plain": [
       "<matplotlib.figure.Figure at 0x122d80f28>"
      ]
     },
     "metadata": {},
     "output_type": "display_data"
    }
   ],
   "source": [
    "ax = sns.countplot(x=\"query_id\", data=full_train, order=query_id_order, palette=\"coolwarm\")\n",
    "sns.set_style(\"white\")\n",
    "ax.set(xlabel='Query ID', ylabel='Number of Documents',title=\"Number Documents per Query\", xticklabels=[])"
   ]
  },
  {
   "cell_type": "code",
   "execution_count": null,
   "metadata": {
    "collapsed": true
   },
   "outputs": [],
   "source": []
  }
 ],
 "metadata": {
  "kernelspec": {
   "display_name": "Python 3",
   "language": "python",
   "name": "python3"
  },
  "language_info": {
   "codemirror_mode": {
    "name": "ipython",
    "version": 3
   },
   "file_extension": ".py",
   "mimetype": "text/x-python",
   "name": "python",
   "nbconvert_exporter": "python",
   "pygments_lexer": "ipython3",
   "version": "3.6.0"
  }
 },
 "nbformat": 4,
 "nbformat_minor": 2
}
